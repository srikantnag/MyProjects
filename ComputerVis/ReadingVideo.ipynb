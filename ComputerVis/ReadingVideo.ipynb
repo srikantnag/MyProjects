{
 "cells": [
  {
   "cell_type": "code",
   "execution_count": 1,
   "id": "f2e3bd3a",
   "metadata": {},
   "outputs": [],
   "source": [
    "import cv2"
   ]
  },
  {
   "cell_type": "code",
   "execution_count": 2,
   "id": "ee617dda",
   "metadata": {},
   "outputs": [],
   "source": [
    "cap = cv2.VideoCapture(\"airplanes.mp4\")"
   ]
  },
  {
   "cell_type": "code",
   "execution_count": 3,
   "id": "dba09804",
   "metadata": {},
   "outputs": [],
   "source": [
    "while True:\n",
    "    ret,frame = cap.read()\n",
    "    if ret:\n",
    "        cv2.imshow(\"Demo\",frame)\n",
    "    else:\n",
    "        break\n",
    "    k=cv2.waitKey(10)\n",
    "    if k == ord('q'):\n",
    "        break\n",
    "cv2.destroyAllWindows()"
   ]
  },
  {
   "cell_type": "code",
   "execution_count": null,
   "id": "de8599c1",
   "metadata": {},
   "outputs": [],
   "source": []
  }
 ],
 "metadata": {
  "kernelspec": {
   "display_name": "Python 3 (ipykernel)",
   "language": "python",
   "name": "python3"
  },
  "language_info": {
   "codemirror_mode": {
    "name": "ipython",
    "version": 3
   },
   "file_extension": ".py",
   "mimetype": "text/x-python",
   "name": "python",
   "nbconvert_exporter": "python",
   "pygments_lexer": "ipython3",
   "version": "3.9.12"
  }
 },
 "nbformat": 4,
 "nbformat_minor": 5
}
