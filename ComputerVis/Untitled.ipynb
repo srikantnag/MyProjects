{
 "cells": [
  {
   "cell_type": "markdown",
   "id": "20afec9a",
   "metadata": {},
   "source": [
    "# Calculating Image Differences"
   ]
  },
  {
   "cell_type": "markdown",
   "id": "2c14ff4a",
   "metadata": {},
   "source": [
    "1) Consider two almost similar images, A and B.\n",
    "\n",
    "2) Computing a simple, mathematical difference would produce a third image highlighting the changes from A to B\n",
    "\n",
    "3) If this change exceeds a certain user-set boundary, we can conclude that some motion has occured"
   ]
  },
  {
   "cell_type": "code",
   "execution_count": 2,
   "id": "a73ade35",
   "metadata": {},
   "outputs": [],
   "source": [
    "import cv2"
   ]
  },
  {
   "cell_type": "code",
   "execution_count": 3,
   "id": "03d65fb0",
   "metadata": {
    "scrolled": true
   },
   "outputs": [],
   "source": [
    "cap = cv2.VideoCapture(0)"
   ]
  },
  {
   "cell_type": "code",
   "execution_count": 5,
   "id": "06f1bbe7",
   "metadata": {},
   "outputs": [],
   "source": [
    "ret1, frame1 = cap.read()\n",
    "ret2, frame2 = cap.read()"
   ]
  },
  {
   "cell_type": "code",
   "execution_count": 15,
   "id": "d0292611",
   "metadata": {},
   "outputs": [],
   "source": [
    "while True:\n",
    "    frame1_gray = cv2.cvtColor(frame1, cv2.COLOR_BGR2GRAY)\n",
    "    frame2_gray = cv2.cvtColor(frame2, cv2.COLOR_BGR2GRAY)\n",
    "    frame1_blur = cv2.GaussianBlur(frame1_gray,(21,21),0)\n",
    "    frame2_blur = cv2.GaussianBlur(frame2_gray,(21,21),0)\n",
    "    \n",
    "    diff = cv2.absdiff(frame1_blur,frame2_blur)\n",
    "    thresh = cv2.threshold(diff,20,255,cv2.THRESH_BINARY)[1]\n",
    "    final = cv2.dilate(thresh, None, iterations=2)\n",
    "    \n",
    "    cv2.imshow(\"Motion\",final)\n",
    "    \n",
    "    frame1= frame2\n",
    "    ret,frame2 = cap.read()\n",
    "    if not ret:\n",
    "        break\n",
    "    key=cv2.waitKey(10)\n",
    "    if key==27:\n",
    "        break\n",
    "cv2.destroyAllWindows()"
   ]
  },
  {
   "cell_type": "markdown",
   "id": "c2d7d0a0",
   "metadata": {},
   "source": [
    "## Visualizing and Trigerring Actions"
   ]
  },
  {
   "cell_type": "markdown",
   "id": "5d9b7db3",
   "metadata": {},
   "source": [
    "1) Apply masks to images\n",
    "\n",
    "2) Trigger actions based on the amount of motion detected"
   ]
  },
  {
   "cell_type": "markdown",
   "id": "d1471250",
   "metadata": {},
   "source": [
    "### Masking"
   ]
  },
  {
   "cell_type": "markdown",
   "id": "de05f314",
   "metadata": {},
   "source": [
    "1) To visualize what has moved in the video feed\n",
    "\n",
    "2) We apply a mask to an image to obtain a segmented image\n",
    "\n",
    "3) It is in Fact a bitwise AND of the original image and the mask"
   ]
  },
  {
   "cell_type": "code",
   "execution_count": 6,
   "id": "5a174b15",
   "metadata": {},
   "outputs": [],
   "source": [
    "while True:\n",
    "    frame1_gray = cv2.cvtColor(frame1, cv2.COLOR_BGR2GRAY)\n",
    "    frame2_gray = cv2.cvtColor(frame2, cv2.COLOR_BGR2GRAY)\n",
    "    frame1_blur = cv2.GaussianBlur(frame1_gray,(21,21),0)\n",
    "    frame2_blur = cv2.GaussianBlur(frame2_gray,(21,21),0)\n",
    "    \n",
    "    diff = cv2.absdiff(frame1_blur,frame2_blur)\n",
    "    thresh = cv2.threshold(diff,20,255,cv2.THRESH_BINARY)[1]\n",
    "    final = cv2.dilate(thresh, None, iterations=2)\n",
    "    \n",
    "    masked = cv2.bitwise_and(frame1,frame1, mask=final)\n",
    "    \n",
    "    cv2.imshow(\"Motion\",masked)\n",
    "    \n",
    "    frame1= frame2\n",
    "    ret,frame2 = cap.read()\n",
    "    if not ret:\n",
    "        break\n",
    "    key=cv2.waitKey(10)\n",
    "    if key==27:\n",
    "        break\n",
    "cv2.destroyAllWindows()"
   ]
  },
  {
   "cell_type": "code",
   "execution_count": null,
   "id": "10620513",
   "metadata": {},
   "outputs": [],
   "source": []
  }
 ],
 "metadata": {
  "kernelspec": {
   "display_name": "Python 3 (ipykernel)",
   "language": "python",
   "name": "python3"
  },
  "language_info": {
   "codemirror_mode": {
    "name": "ipython",
    "version": 3
   },
   "file_extension": ".py",
   "mimetype": "text/x-python",
   "name": "python",
   "nbconvert_exporter": "python",
   "pygments_lexer": "ipython3",
   "version": "3.9.12"
  }
 },
 "nbformat": 4,
 "nbformat_minor": 5
}
